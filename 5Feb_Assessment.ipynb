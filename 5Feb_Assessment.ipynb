{
 "cells": [
  {
   "cell_type": "markdown",
   "id": "114f87d7",
   "metadata": {},
   "source": [
    "### Q1. Explain Class and Object with respect to Object-Oriented Programming. Give a suitable example."
   ]
  },
  {
   "cell_type": "markdown",
   "id": "87a63dcc",
   "metadata": {},
   "source": [
    "#### Class and Object are two important concepts in Object-Oriented Programming (OOP).\n",
    "\n",
    "#### A Class is a blueprint or a template for creating objects. It defines the properties (data) and methods (functions) that the objects of that class will have. A class defines the structure of an object, but it doesn't create any actual objects.\n",
    "\n",
    "#### An Object is an instance of a class. It has its own state and behavior. An object is created from a class, and it contains its own data and functions that are specific to that object. Each object is unique and has its own properties and methods.\n",
    "\n",
    "#### For example, consider a class named \"Person\". A Person class could have properties like name, age, address, and methods like talk(), walk(). Each person object would have its own values for these properties and methods, but they would all share the same structure defined in the Person class."
   ]
  },
  {
   "cell_type": "code",
   "execution_count": 3,
   "id": "52f13c52",
   "metadata": {},
   "outputs": [
    {
     "name": "stdout",
     "output_type": "stream",
     "text": [
      "Salman is Studing\n",
      "Shaikh is Cooking\n"
     ]
    }
   ],
   "source": [
    "class Person:\n",
    "    def __init__(self, name, age, address):\n",
    "        self.name = name\n",
    "        self.age = age\n",
    "        self.address = address\n",
    "    \n",
    "    def talk(self):\n",
    "        print(f\"{self.name} is Studing\")\n",
    "        \n",
    "    def walk(self):\n",
    "        print(f\"{self.name} is Cooking\")\n",
    "\n",
    "person1 = Person(\"Salman\", 32, \"123 Main St.\")\n",
    "person2 = Person(\"Shaikh\", 28, \"456 Main St.\")\n",
    "\n",
    "person1.talk()\n",
    "person2.walk()"
   ]
  },
  {
   "cell_type": "markdown",
   "id": "0f21bda8",
   "metadata": {},
   "source": [
    "### Q2. Name the four pillars of OOPs."
   ]
  },
  {
   "cell_type": "markdown",
   "id": "e14f696d",
   "metadata": {},
   "source": [
    "#### The four pillars of Object-Oriented Programming (OOP) are:\n",
    "\n",
    "#### Abstraction\n",
    "\n",
    "#### Encapsulation\n",
    "\n",
    "#### Inheritance\n",
    "\n",
    "#### Polymorphism"
   ]
  },
  {
   "cell_type": "markdown",
   "id": "2ae2b4ba",
   "metadata": {},
   "source": [
    "### Q3. Explain why the ' __init__()' function is used. Give a suitable example."
   ]
  },
  {
   "cell_type": "markdown",
   "id": "891e5a80",
   "metadata": {},
   "source": [
    "#### The __init__ function is a special function in Python classes and is known as the constructor. It is used to initialize the objects of a class when they are created. The __init__ function is automatically called when an object of a class is created and allows the developer to specify the initial state of an object.\n",
    "\n",
    "#### The syntax for the __init__ function is as follows:"
   ]
  },
  {
   "cell_type": "code",
   "execution_count": 6,
   "id": "5dbc143c",
   "metadata": {},
   "outputs": [],
   "source": [
    "class Person:\n",
    "    def __init__(self, name, age, address):\n",
    "        self.name = name\n",
    "        self.age = age\n",
    "        self.address = address\n",
    "\n",
    "person1 = Person(\"John\", 32, \"123 Main St.\")\n",
    "person2 = Person(\"Jane\", 28, \"456 Main St.\")"
   ]
  },
  {
   "cell_type": "markdown",
   "id": "264051a4",
   "metadata": {},
   "source": [
    "### Q4. Why self is used in OOPs?"
   ]
  },
  {
   "cell_type": "markdown",
   "id": "6d1ab282",
   "metadata": {},
   "source": [
    "#### In Object-Oriented Programming (OOP), self is a special keyword that is used to refer to the instance of the class itself. It is used to access the properties and methods of the class within the class definition.\n",
    "\n",
    "#### For example, consider a class named \"Person\". A Person class could have properties like name, age, and address. The self keyword is used to access these properties within the class definition:"
   ]
  },
  {
   "cell_type": "code",
   "execution_count": 7,
   "id": "029ba13a",
   "metadata": {},
   "outputs": [
    {
     "name": "stdout",
     "output_type": "stream",
     "text": [
      "Name: Salman\n",
      "Age: 32\n",
      "Address: 123 Main St.\n"
     ]
    }
   ],
   "source": [
    "class Person:\n",
    "    def __init__(self, name, age, address):\n",
    "        self.name = name\n",
    "        self.age = age\n",
    "        self.address = address\n",
    "    \n",
    "    def show_person_details(self):\n",
    "        print(\"Name:\", self.name)\n",
    "        print(\"Age:\", self.age)\n",
    "        print(\"Address:\", self.address)\n",
    "\n",
    "person1 = Person(\"Salman\", 32, \"123 Main St.\")\n",
    "person1.show_person_details()"
   ]
  },
  {
   "cell_type": "markdown",
   "id": "44d80fa1",
   "metadata": {},
   "source": [
    "### Q5. What is inheritance? Give an example for each type of inheritance."
   ]
  },
  {
   "cell_type": "markdown",
   "id": "2cab05d7",
   "metadata": {},
   "source": [
    "#### Inheritance is a key concept in Object-Oriented Programming (OOP) and is used to establish a relationship between two classes, where one class inherits the properties and behaviors of another class. In Python, inheritance allows a new class to be created by inheriting properties and methods from an existing class, called the base class or parent class.\n",
    "\n",
    "#### There are three types of inheritance in Python:"
   ]
  },
  {
   "cell_type": "markdown",
   "id": "1492bfa5",
   "metadata": {},
   "source": [
    "##### Single inheritance: In single inheritance, a new class is derived from a single base class. The new class inherits all the properties and methods of the base class, and can also have its own properties and methods."
   ]
  },
  {
   "cell_type": "code",
   "execution_count": 8,
   "id": "d7fa77fc",
   "metadata": {},
   "outputs": [
    {
     "name": "stdout",
     "output_type": "stream",
     "text": [
      "Name: Max\n",
      "Species: Dog\n",
      "Breed: Labrador\n"
     ]
    }
   ],
   "source": [
    "class Animal:\n",
    "    def __init__(self, name, species):\n",
    "        self.name = name\n",
    "        self.species = species\n",
    "        \n",
    "    def show_animal_details(self):\n",
    "        print(\"Name:\", self.name)\n",
    "        print(\"Species:\", self.species)\n",
    "        \n",
    "class Dog(Animal):\n",
    "    def __init__(self, name, breed):\n",
    "        Animal.__init__(self, name, species=\"Dog\")\n",
    "        self.breed = breed\n",
    "        \n",
    "    def show_dog_details(self):\n",
    "        self.show_animal_details()\n",
    "        print(\"Breed:\", self.breed)\n",
    "        \n",
    "dog1 = Dog(\"Max\", \"Labrador\")\n",
    "dog1.show_dog_details()"
   ]
  },
  {
   "cell_type": "markdown",
   "id": "edafc43e",
   "metadata": {},
   "source": [
    "##### Multi-level inheritance: In multi-level inheritance, a new class is derived from a derived class. The new class inherits properties and methods from both the base class and the derived class."
   ]
  },
  {
   "cell_type": "code",
   "execution_count": 9,
   "id": "3130f903",
   "metadata": {},
   "outputs": [
    {
     "name": "stdout",
     "output_type": "stream",
     "text": [
      "Name: Charlie\n",
      "Species: Dog\n",
      "Breed: Golden Retriever\n",
      "Color: Golden\n"
     ]
    }
   ],
   "source": [
    "class Animal:\n",
    "    def __init__(self, name, species):\n",
    "        self.name = name\n",
    "        self.species = species\n",
    "        \n",
    "    def show_animal_details(self):\n",
    "        print(\"Name:\", self.name)\n",
    "        print(\"Species:\", self.species)\n",
    "        \n",
    "class Dog(Animal):\n",
    "    def __init__(self, name, breed):\n",
    "        Animal.__init__(self, name, species=\"Dog\")\n",
    "        self.breed = breed\n",
    "        \n",
    "    def show_dog_details(self):\n",
    "        self.show_animal_details()\n",
    "        print(\"Breed:\", self.breed)\n",
    "        \n",
    "class GoldenRetriever(Dog):\n",
    "    def __init__(self, name, color):\n",
    "        Dog.__init__(self, name, breed=\"Golden Retriever\")\n",
    "        self.color = color\n",
    "        \n",
    "    def show_golden_retriever_details(self):\n",
    "        self.show_dog_details()\n",
    "        print(\"Color:\", self.color)\n",
    "        \n",
    "gr1 = GoldenRetriever(\"Charlie\", \"Golden\")\n",
    "gr1.show_golden_retriever_details()"
   ]
  },
  {
   "cell_type": "markdown",
   "id": "9030ae1f",
   "metadata": {},
   "source": [
    "##### Multiple Inheritance: In multiple inheritance, a derived class inherits the properties and behaviors of multiple parent classes."
   ]
  },
  {
   "cell_type": "code",
   "execution_count": 11,
   "id": "c3b10afc",
   "metadata": {},
   "outputs": [
    {
     "name": "stdout",
     "output_type": "stream",
     "text": [
      "Eye color: blue\n",
      "Hair color: blonde\n"
     ]
    }
   ],
   "source": [
    "class Mother:\n",
    "    def __init__(self):\n",
    "        self.eye_color = \"brown\"\n",
    "        self.hair_color = \"black\"\n",
    "\n",
    "class Father:\n",
    "    def __init__(self):\n",
    "        self.eye_color = \"blue\"\n",
    "        self.hair_color = \"blonde\"\n",
    "\n",
    "class Child(Mother, Father):\n",
    "    def __init__(self):\n",
    "        Mother.__init__(self)\n",
    "        Father.__init__(self)\n",
    "\n",
    "c = Child()\n",
    "print(\"Eye color:\", c.eye_color)\n",
    "print(\"Hair color:\", c.hair_color)"
   ]
  },
  {
   "cell_type": "code",
   "execution_count": null,
   "id": "45a49dc5",
   "metadata": {},
   "outputs": [],
   "source": []
  }
 ],
 "metadata": {
  "kernelspec": {
   "display_name": "Python 3 (ipykernel)",
   "language": "python",
   "name": "python3"
  },
  "language_info": {
   "codemirror_mode": {
    "name": "ipython",
    "version": 3
   },
   "file_extension": ".py",
   "mimetype": "text/x-python",
   "name": "python",
   "nbconvert_exporter": "python",
   "pygments_lexer": "ipython3",
   "version": "3.9.13"
  }
 },
 "nbformat": 4,
 "nbformat_minor": 5
}
